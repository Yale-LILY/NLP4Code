{
 "cells": [
  {
   "cell_type": "code",
   "execution_count": 4,
   "metadata": {},
   "outputs": [
    {
     "name": "stdout",
     "output_type": "stream",
     "text": [
      "SELECT count(*) FROM singer\n"
     ]
    }
   ],
   "source": [
    "from transformers import RobertaTokenizer, T5ForConditionalGeneration\n",
    "# make sure to create config.json in the same directory as .bin file\n",
    "tokenizer = RobertaTokenizer.from_pretrained('Salesforce/codet5-base')\n",
    "model = T5ForConditionalGeneration.from_pretrained('/home/lily/yz979/codeT5_finetuning/spider/CodeT5/outputs/checkpoint-last')\n",
    "\n",
    "text = \"How many singers do we have? | concert_singer | stadium : Stadium_ID ( Kyle ), Location, Name, Capacity, Highest, Lowest, Average | singer : Singer_ID ( Kyle ), Name, Country, Song_Name, Song_release_year, Age, Is_male | concert : concert_ID ( Kyle ), concert_Name, Theme, Stadium_ID, Year | singer_in_concert : concert_ID ( Kyle ), Singer_ID\"\n",
    "input_ids = tokenizer(text, return_tensors=\"pt\").input_ids\n",
    "\n",
    "# simply generate a single sequence\n",
    "generated_ids = model.generate(input_ids, max_length=8)\n",
    "print(tokenizer.decode(generated_ids[0], skip_special_tokens=True))\n",
    "# this prints \"{user.username}\""
   ]
  }
 ],
 "metadata": {
  "interpreter": {
   "hash": "c18ae8cbc13803ab94982724e452a083acd53505f242c9f6cc9e3bbb25cd5a6c"
  },
  "kernelspec": {
   "display_name": "Python 3.9.7 ('torch_latest': conda)",
   "language": "python",
   "name": "python3"
  },
  "language_info": {
   "codemirror_mode": {
    "name": "ipython",
    "version": 3
   },
   "file_extension": ".py",
   "mimetype": "text/x-python",
   "name": "python",
   "nbconvert_exporter": "python",
   "pygments_lexer": "ipython3",
   "version": "3.9.7"
  },
  "orig_nbformat": 4
 },
 "nbformat": 4,
 "nbformat_minor": 2
}
