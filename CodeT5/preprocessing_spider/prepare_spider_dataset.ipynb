{
 "cells": [
  {
   "cell_type": "code",
   "execution_count": 40,
   "metadata": {},
   "outputs": [],
   "source": [
    "import json"
   ]
  },
  {
   "cell_type": "markdown",
   "metadata": {},
   "source": [
    "## 1. Collect Table data"
   ]
  },
  {
   "cell_type": "code",
   "execution_count": 41,
   "metadata": {},
   "outputs": [
    {
     "data": {
      "text/plain": [
       "['network_1',\n",
       " 'Highschooler : ID ( Kyle ), name, grade',\n",
       " 'Friend : student_id ( Kyle ), friend_id',\n",
       " 'Likes : student_id ( Kyle ), liked_id']"
      ]
     },
     "execution_count": 41,
     "metadata": {},
     "output_type": "execute_result"
    }
   ],
   "source": [
    "table_dataset_path = \"spider/tables.json\"\n",
    "table_dict = {} # table_dict[db_id] = linearized_table\n",
    "\n",
    "data = json.load(open(table_dataset_path))\n",
    "for example in data:\n",
    "    outputs = []\n",
    "    db_id = example[\"db_id\"]\n",
    "    outputs.append(db_id)\n",
    "    \n",
    "    orig_columns = example[\"column_names_original\"] # referred paper use original column names and table names\n",
    "    orig_table_names = example[\"table_names_original\"]\n",
    "    primary_keys = example[\"primary_keys\"]\n",
    "    \n",
    "    prev_table_id = -1\n",
    "    table_row = \"\"\n",
    "    for i, column in enumerate(orig_columns):\n",
    "        table_id, column_name = column[0], column[1]\n",
    "        if table_id == -1:\n",
    "            continue\n",
    "        if table_id != prev_table_id:\n",
    "            if table_row:\n",
    "                outputs.append(table_row.strip(\", \"))\n",
    "            table_row = \"{} : \".format(orig_table_names[table_id])\n",
    "            prev_table_id = table_id\n",
    "            \n",
    "        if i in primary_keys:\n",
    "            table_row += \"{} ( Kyle ), \".format(column_name)\n",
    "        else:\n",
    "            table_row += \"{}, \".format(column_name)\n",
    "            \n",
    "    outputs.append(table_row.strip(\", \"))\n",
    "    # [\"network_1\", \"highschooler : id, name ( Kyle ), grade\", \"friend : student_id, friend_id\", ...]\n",
    "    table_dict[db_id] = outputs \n",
    "    \n",
    "table_dict[\"network_1\"]"
   ]
  },
  {
   "cell_type": "markdown",
   "metadata": {},
   "source": [
    "## 2. Prepare Spider input dataset"
   ]
  },
  {
   "cell_type": "code",
   "execution_count": 44,
   "metadata": {},
   "outputs": [
    {
     "name": "stdout",
     "output_type": "stream",
     "text": [
      "7000\n",
      "1034\n"
     ]
    }
   ],
   "source": [
    "train_dataset_path = \"spider/train_spider.json\"\n",
    "dev_dataset_path = \"spider/dev.json\"\n",
    "\n",
    "def prepare_spider_dataset(dataset_path, table_dict):\n",
    "    input_train_dataset = []\n",
    "    input_train_dataset_path = \"codeT5_\" + dataset_path.split(\"/\")[-1]\n",
    "\n",
    "    data = json.load(open(dataset_path))\n",
    "    for example in data:\n",
    "        instance = {}\n",
    "        db_id = example[\"db_id\"]\n",
    "        question = example[\"question\"]\n",
    "        \n",
    "        inputs = [question] + table_dict[db_id]\n",
    "        input_str = \" | \".join(inputs)\n",
    "        label = example[\"query\"]\n",
    "        \n",
    "        instance[\"intent\"] = input_str\n",
    "        instance[\"snippet\"] = label\n",
    "        input_train_dataset.append(instance)\n",
    "    print(len(input_train_dataset))\n",
    "    # write list to .json file\n",
    "    json.dump(input_train_dataset, open(\"data/\" + input_train_dataset_path, \"w\"), indent=4)\n",
    "\n",
    "\n",
    "prepare_spider_dataset(train_dataset_path, table_dict)\n",
    "prepare_spider_dataset(dev_dataset_path, table_dict)\n",
    "    "
   ]
  }
 ],
 "metadata": {
  "interpreter": {
   "hash": "c18ae8cbc13803ab94982724e452a083acd53505f242c9f6cc9e3bbb25cd5a6c"
  },
  "kernelspec": {
   "display_name": "Python 3.9.7 ('torch_latest': conda)",
   "language": "python",
   "name": "python3"
  },
  "language_info": {
   "codemirror_mode": {
    "name": "ipython",
    "version": 3
   },
   "file_extension": ".py",
   "mimetype": "text/x-python",
   "name": "python",
   "nbconvert_exporter": "python",
   "pygments_lexer": "ipython3",
   "version": "3.9.7"
  },
  "orig_nbformat": 4
 },
 "nbformat": 4,
 "nbformat_minor": 2
}
